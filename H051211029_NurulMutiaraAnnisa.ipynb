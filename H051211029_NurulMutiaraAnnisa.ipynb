{
  "nbformat": 4,
  "nbformat_minor": 0,
  "metadata": {
    "colab": {
      "name": "Tugas.ipynb",
      "provenance": [],
      "collapsed_sections": [],
      "authorship_tag": "ABX9TyMBcxausUBtoByVHWD3ObWL",
      "include_colab_link": true
    },
    "kernelspec": {
      "name": "python3",
      "display_name": "Python 3"
    },
    "language_info": {
      "name": "python"
    }
  },
  "cells": [
    {
      "cell_type": "markdown",
      "metadata": {
        "id": "view-in-github",
        "colab_type": "text"
      },
      "source": [
        "<a href=\"https://colab.research.google.com/github/nranisadr/TugasAlgoproA-NurulMutiaraAnnisa/blob/main/H051211029_Nurul%20Mutiara%20Annisa.ipynb\" target=\"_parent\"><img src=\"https://colab.research.google.com/assets/colab-badge.svg\" alt=\"Open In Colab\"/></a>"
      ]
    },
    {
      "cell_type": "markdown",
      "source": [
        "Tugas Algoritma dan Pemrograman\n",
        "\n",
        "Nama  : Nurul Mutiara Annisa\n",
        "\n",
        "NIM   : H051211029\n",
        "\n",
        "Kelas : Algoritma dan Pemrograman A"
      ],
      "metadata": {
        "id": "5i8f4GI0lgra"
      }
    },
    {
      "cell_type": "markdown",
      "source": [
        "# Nomor 1\n",
        "Buatlah program untuk menghitung penjumlahan 2 buah matriks!"
      ],
      "metadata": {
        "id": "D9HTI5Kkg2Mi"
      }
    },
    {
      "cell_type": "code",
      "source": [
        "a11=int(input('a11 = '))\n",
        "a12=int(input('a12 = '))\n",
        "a21=int(input('a21 = '))\n",
        "a22=int(input('a22 = '))\n",
        "A=[\n",
        "   [a11, a12],\n",
        "   [a21, a22],\n",
        "]\n",
        "b11=int(input('b11 = '))\n",
        "b12=int(input('b12 = '))\n",
        "b21=int(input('b21 = '))\n",
        "b22=int(input('b22 = '))\n",
        "B=[\n",
        "   [b11, b12],\n",
        "   [b21, b22],\n",
        "]\n",
        "print('Matriks 1')\n",
        "print(A)\n",
        "print('Matriks 2')\n",
        "print(B)\n",
        "print()\n",
        "print('Hasil penjumlahan')\n",
        "for x in range(0, len(A)):\n",
        "  for y in range(0, len(A[0])):\n",
        "    print(A[x][y] + B[x][y], end=' '),\n",
        "  print('')"
      ],
      "metadata": {
        "colab": {
          "base_uri": "https://localhost:8080/"
        },
        "id": "yaMqLY3MTYlU",
        "outputId": "7ae74d2d-cf70-4628-f5dc-4d569c5ac840"
      },
      "execution_count": 4,
      "outputs": [
        {
          "output_type": "stream",
          "name": "stdout",
          "text": [
            "a11 = 1\n",
            "a12 = 1\n",
            "a21 = 2\n",
            "a22 = 3\n",
            "b11 = 1\n",
            "b12 = 1\n",
            "b21 = 1\n",
            "b22 = 1\n",
            "Matriks 1\n",
            "[[1, 1], [2, 3]]\n",
            "Matriks 2\n",
            "[[1, 1], [1, 1]]\n",
            "\n",
            "Hasil penjumlahan\n",
            "2 2 \n",
            "3 4 \n"
          ]
        }
      ]
    },
    {
      "cell_type": "markdown",
      "source": [
        "#Nomor 2\n",
        "Buatlah program untuk menghitung total pembelian N buah barang dengan harga dan jumlah tertentu!"
      ],
      "metadata": {
        "id": "8nDe_mfyClGM"
      }
    },
    {
      "cell_type": "code",
      "source": [
        "banyakbrg = int(input('Banyak Barang = '))\n",
        "Subtotal = 0\n",
        "for B in range(banyakbrg):\n",
        "  print('Barang ke-',B+1)\n",
        "  Namabrg = str(input('Nama Barang = '))\n",
        "  Harga, Jumlah = eval(input('Masukkan Harga, Jumlah: '))\n",
        "  Subtotal = Subtotal + (Harga*Jumlah)\n",
        "print('Total Harga = Rp.', Subtotal)"
      ],
      "metadata": {
        "id": "t4ogfJjJwK7W",
        "colab": {
          "base_uri": "https://localhost:8080/"
        },
        "outputId": "051339f3-5032-4315-f6f2-4e2fde6e4867"
      },
      "execution_count": 15,
      "outputs": [
        {
          "output_type": "stream",
          "name": "stdout",
          "text": [
            "Banyak Barang = 3\n",
            "Barang ke- 1\n",
            "Nama Barang = Kipas\n",
            "Masukkan Harga, Jumlah: 200000, 2\n",
            "Barang ke- 2\n",
            "Nama Barang = Buah\n",
            "Masukkan Harga, Jumlah: 27000, 4\n",
            "Barang ke- 3\n",
            "Nama Barang = Buku\n",
            "Masukkan Harga, Jumlah: 5000, 2\n",
            "Total Harga = Rp. 518000\n"
          ]
        }
      ]
    },
    {
      "cell_type": "markdown",
      "source": [
        "#Nomor 3\n",
        "Buatlah program untuk menghitung banyaknya bilangan genap ataupun bilangan ganjil dari N buah bilangan yang diinput secara acak!"
      ],
      "metadata": {
        "id": "GIFri7VNCwvf"
      }
    },
    {
      "cell_type": "code",
      "source": [
        "N=int(input('Banyak Bilangan = '))\n",
        "Genap=0\n",
        "Ganjil=0\n",
        "for i in range(N):\n",
        "  print('Bilangan ke-', i+1)\n",
        "  Angka=int(input('Bilangan = '))\n",
        "  if Angka % 2 == 0:\n",
        "    print(\"Bilangan di atas merupakan bilangan genap\")\n",
        "    Genap=Genap+1\n",
        "  else:\n",
        "    print(\"Bilangan di atas merupakan bilangan ganjil\")\n",
        "    Ganjil=Ganjil+1\n",
        "print(\"Jumlah bilangan ganjil = \", Ganjil)\n",
        "print(\"Jumlah bilangan genap = \", Genap)"
      ],
      "metadata": {
        "colab": {
          "base_uri": "https://localhost:8080/"
        },
        "id": "iJNaOrm4b5Nt",
        "outputId": "e39ef71d-59fd-454a-834c-1c46dad53896"
      },
      "execution_count": null,
      "outputs": [
        {
          "output_type": "stream",
          "name": "stdout",
          "text": [
            "Banyak Bilangan = 5\n",
            "Bilangan ke- 1\n",
            "Bilangan = 1\n",
            "Bilangan di atas merupakan bilangan ganjil\n",
            "Bilangan ke- 2\n",
            "Bilangan = 6\n",
            "Bilangan di atas merupakan bilangan genap\n",
            "Bilangan ke- 3\n",
            "Bilangan = 3\n",
            "Bilangan di atas merupakan bilangan ganjil\n",
            "Bilangan ke- 4\n",
            "Bilangan = 9\n",
            "Bilangan di atas merupakan bilangan ganjil\n",
            "Bilangan ke- 5\n",
            "Bilangan = 10\n",
            "Bilangan di atas merupakan bilangan genap\n",
            "Jumlah bilangan ganjil =  3\n",
            "Jumlah bilangan genap =  2\n"
          ]
        }
      ]
    },
    {
      "cell_type": "markdown",
      "source": [
        "#Nomor 4\n",
        "Buatlah program untuk menampilkan bilangan kelipatan 3 di antara bilangan tertentu!"
      ],
      "metadata": {
        "id": "wbHBR5_cbDg1"
      }
    },
    {
      "cell_type": "code",
      "source": [
        "Awal=int(input('Bilangan Awal = '))\n",
        "Akhir=int(input('Bilangan Akhir = '))\n",
        "for i in range(Awal,Akhir+1):\n",
        "  if i % 3 == 0:\n",
        "    print(i, end=' ')"
      ],
      "metadata": {
        "colab": {
          "base_uri": "https://localhost:8080/"
        },
        "id": "WA9W4j6hAQpQ",
        "outputId": "df6038ff-19ee-4d8c-824c-671f53492bbe"
      },
      "execution_count": 25,
      "outputs": [
        {
          "output_type": "stream",
          "name": "stdout",
          "text": [
            "Bilangan Awal = 1\n",
            "Bilangan Akhir = 19\n",
            "3 6 9 12 15 18 "
          ]
        }
      ]
    },
    {
      "cell_type": "markdown",
      "source": [
        "#Nomor 5\n",
        "Buatlah program untuk menampilkan bentuk bilangan seperti berikut ini:\n",
        "Bilangan : <input suatu bilangan (misal:5)>\n",
        "\n",
        "1\n",
        "\n",
        "12\n",
        "\n",
        "123\n",
        "\n",
        "1234\n",
        "\n",
        "12345"
      ],
      "metadata": {
        "id": "Aq2rljErC2rF"
      }
    },
    {
      "cell_type": "code",
      "source": [
        "Banyakbil=int(input('Banyak Bilangan = '))\n",
        "for i in range(Banyakbil):\n",
        "  awal=1\n",
        "  for j in range(Banyakbil):\n",
        "    if j > i:\n",
        "      print(\" \", end='')\n",
        "    else:\n",
        "      print(awal, end='')\n",
        "      awal += 1\n",
        "  print(\"\")"
      ],
      "metadata": {
        "colab": {
          "base_uri": "https://localhost:8080/"
        },
        "id": "o1z4i3iFC5MR",
        "outputId": "d8faa493-7085-46e0-8e31-5107476643b6"
      },
      "execution_count": 5,
      "outputs": [
        {
          "output_type": "stream",
          "name": "stdout",
          "text": [
            "Banyak Bilangan = 5\n",
            "1    \n",
            "12   \n",
            "123  \n",
            "1234 \n",
            "12345\n"
          ]
        }
      ]
    },
    {
      "cell_type": "markdown",
      "source": [
        "#Nomor 6\n",
        "Buatlah program untuk menghitung dan menampilkan bentuk berikut ini:\n",
        "\n",
        "---\n",
        "\n",
        "\n",
        "No.       Nama Mhs       N.Tugas       N.Kuis       N.UTS       N.UAS       NilaiAkhir\n",
        "\n",
        "\n",
        "\n",
        "---\n",
        "1\n",
        "\n",
        "2\n",
        "\n",
        "..\n",
        "\n",
        "N\n",
        "\n"
      ],
      "metadata": {
        "id": "FrOl-zfYEQ67"
      }
    },
    {
      "cell_type": "code",
      "source": [
        "No = []\n",
        "Nama = []\n",
        "Tugas = []\n",
        "Kuis = []\n",
        "UTS = []\n",
        "UAS = []\n",
        "Akhir = []\n",
        "BanyakMhs = int(input('Banyak Mahasiswa = '))\n",
        "for i in range(BanyakMhs):\n",
        "  No.append(str(i+1))\n",
        "  Nama.append(input('Nama Mhs = '))\n",
        "  Tugas.append(int(input('N.Tugas = ')))\n",
        "  Kuis.append(int(input('N.Kuis = ')))\n",
        "  UTS.append(int(input('N.UTS = ')))\n",
        "  UAS.append(int(input('N.UAS = ')))\n",
        "for i in range(BanyakMhs):\n",
        "  Akhir.append((Tugas[i] + Kuis[i] + UTS[i] + UAS[i])/4)\n",
        "print(\"\"\"\n",
        "---------------------------------------------------------------\n",
        "No.      Nama Mhs    N.Tugas  N.Kuis  N.UTS   N.UAS  NilaiAkhir  \n",
        "---------------------------------------------------------------\"\"\")\n",
        "for i in range(BanyakMhs):\n",
        "  print(\"%s \\t %s \\t %d \\t %d \\t %d \\t %d \\t %d\" % (No[i],Nama[i],Tugas[i],Kuis[i],UTS[i],UAS[i],Akhir[i]))\n",
        "print(63*'-')  "
      ],
      "metadata": {
        "colab": {
          "base_uri": "https://localhost:8080/"
        },
        "id": "N9ZXSTQBwF0-",
        "outputId": "83eb0377-def0-4cf1-8943-82ea0229009c"
      },
      "execution_count": 14,
      "outputs": [
        {
          "output_type": "stream",
          "name": "stdout",
          "text": [
            "Banyak Mahasiswa = 2\n",
            "Nama Mhs = Annisa\n",
            "N.Tugas = 95\n",
            "N.Kuis = 92\n",
            "N.UTS = 89\n",
            "N.UAS = 95\n",
            "Nama Mhs = Andina\n",
            "N.Tugas = 89\n",
            "N.Kuis = 90\n",
            "N.UTS = 91\n",
            "N.UAS = 89\n",
            "\n",
            "---------------------------------------------------------------\n",
            "No.      Nama Mhs    N.Tugas  N.Kuis  N.UTS   N.UAS  NilaiAkhir  \n",
            "---------------------------------------------------------------\n",
            "1 \t Annisa \t 95 \t 92 \t 89 \t 95 \t 92\n",
            "2 \t Andina \t 89 \t 90 \t 91 \t 89 \t 89\n",
            "---------------------------------------------------------------\n"
          ]
        }
      ]
    }
  ]
}
